{
 "cells": [
  {
   "cell_type": "markdown",
   "metadata": {
    "_cell_guid": "b1076dfc-b9ad-4769-8c92-a6c4dae69d19",
    "_uuid": "8f2839f25d086af736a60e9eeb907d3b93b6e0e5",
    "execution": {
     "iopub.execute_input": "2021-10-24T12:17:14.034548Z",
     "iopub.status.busy": "2021-10-24T12:17:14.034233Z",
     "iopub.status.idle": "2021-10-24T12:17:14.039306Z",
     "shell.execute_reply": "2021-10-24T12:17:14.03844Z",
     "shell.execute_reply.started": "2021-10-24T12:17:14.034515Z"
    }
   },
   "source": [
    "# imports"
   ]
  },
  {
   "cell_type": "code",
   "execution_count": 45,
   "metadata": {
    "execution": {
     "iopub.execute_input": "2021-10-24T20:12:46.032755Z",
     "iopub.status.busy": "2021-10-24T20:12:46.032474Z",
     "iopub.status.idle": "2021-10-24T20:12:46.040599Z",
     "shell.execute_reply": "2021-10-24T20:12:46.039891Z",
     "shell.execute_reply.started": "2021-10-24T20:12:46.032720Z"
    }
   },
   "outputs": [],
   "source": [
    "from tensorflow.keras.models import Model, load_model\n",
    "from tensorflow.keras.layers import Input, Conv2D, MaxPooling2D, Concatenate, Conv2DTranspose, BatchNormalization, Activation\n",
    "from tensorflow.keras.optimizers import Adam\n",
    "from tensorflow.keras.preprocessing.image import ImageDataGenerator\n",
    "from tensorflow.keras import backend as K\n",
    "from tensorflow.keras.callbacks import ModelCheckpoint\n",
    "from glob import glob\n",
    "from sklearn.model_selection import train_test_split\n",
    "import matplotlib.pyplot as plt\n",
    "plt.style.use(\"ggplot\")\n",
    "import cv2\n",
    "import pandas as pd\n",
    "import numpy as np"
   ]
  },
  {
   "cell_type": "code",
   "execution_count": 25,
   "metadata": {
    "execution": {
     "iopub.execute_input": "2021-10-24T16:34:11.907307Z",
     "iopub.status.busy": "2021-10-24T16:34:11.906843Z",
     "iopub.status.idle": "2021-10-24T16:34:11.990833Z",
     "shell.execute_reply": "2021-10-24T16:34:11.990063Z",
     "shell.execute_reply.started": "2021-10-24T16:34:11.907271Z"
    }
   },
   "outputs": [],
   "source": [
    "train_files = []\n",
    "mask_files = glob('../input/lgg-mri-segmentation/kaggle_3m/*/*_mask*')\n",
    "\n",
    "for i in mask_files:\n",
    "    train_files.append(i.replace('_mask',''))\n",
    "\n",
    "print(train_files[:3])\n",
    "print(mask_files[:3])"
   ]
  },
  {
   "cell_type": "markdown",
   "metadata": {},
   "source": [
    "# load dataset"
   ]
  },
  {
   "cell_type": "code",
   "execution_count": 26,
   "metadata": {
    "execution": {
     "iopub.execute_input": "2021-10-24T16:34:15.048868Z",
     "iopub.status.busy": "2021-10-24T16:34:15.048486Z",
     "iopub.status.idle": "2021-10-24T16:34:16.580414Z",
     "shell.execute_reply": "2021-10-24T16:34:16.579807Z",
     "shell.execute_reply.started": "2021-10-24T16:34:15.048836Z"
    }
   },
   "outputs": [],
   "source": [
    "def plot_samples(rows, cols):\n",
    "    fig = plt.figure(figsize=(12,12))\n",
    "    for i in range(1, rows * cols + 1):\n",
    "        fig.add_subplot(rows, cols, i)\n",
    "        image_path = train_files[i]\n",
    "        mask_path = mask_files[i]\n",
    "        image = cv2.imread(image_path)\n",
    "        image = cv2.cvtColor(image, cv2.COLOR_BGR2RGB)\n",
    "        mask = cv2.imread(mask_path)\n",
    "        plt.imshow(image)\n",
    "        plt.imshow(mask, alpha=0.6)\n",
    "    plt.show()\n",
    "\n",
    "plot_samples(3,4)"
   ]
  },
  {
   "cell_type": "markdown",
   "metadata": {},
   "source": [
    "# create dataframe & split data"
   ]
  },
  {
   "cell_type": "code",
   "execution_count": 27,
   "metadata": {
    "execution": {
     "iopub.execute_input": "2021-10-24T16:34:20.341069Z",
     "iopub.status.busy": "2021-10-24T16:34:20.340789Z",
     "iopub.status.idle": "2021-10-24T16:34:20.352939Z",
     "shell.execute_reply": "2021-10-24T16:34:20.352214Z",
     "shell.execute_reply.started": "2021-10-24T16:34:20.341038Z"
    }
   },
   "outputs": [],
   "source": [
    "df = pd.DataFrame(data={'filename': train_files, 'mask': mask_files})\n",
    "df_train, df_test = train_test_split(df, test_size=0.1, random_state=42) # test:0.1\n",
    "df_train, df_val = train_test_split(df_train, test_size=0.2, random_state=42) # train: 0.7  validation: 0.2\n",
    "\n",
    "print(df_train.values.shape)\n",
    "print(df_val.values.shape)\n",
    "print(df_test.values.shape)"
   ]
  },
  {
   "cell_type": "markdown",
   "metadata": {},
   "source": [
    "# data generator"
   ]
  },
  {
   "cell_type": "code",
   "execution_count": 29,
   "metadata": {
    "execution": {
     "iopub.execute_input": "2021-10-24T16:34:27.517657Z",
     "iopub.status.busy": "2021-10-24T16:34:27.517397Z",
     "iopub.status.idle": "2021-10-24T16:34:27.527435Z",
     "shell.execute_reply": "2021-10-24T16:34:27.526728Z",
     "shell.execute_reply.started": "2021-10-24T16:34:27.517630Z"
    }
   },
   "outputs": [],
   "source": [
    "def train_generator(dataframe, \n",
    "                    batch_size, \n",
    "                    aug_dict,\n",
    "                    image_color_mode = \"rgb\",\n",
    "                    mask_color_mode = \"grayscale\",\n",
    "                    image_save_prefix = \"image\",\n",
    "                    mask_save_prefix = \"mask\",\n",
    "                    save_to_dir = None,\n",
    "                    target_size = (256,256),\n",
    "                    seed = 1):\n",
    "    image_datagen = ImageDataGenerator(**aug_dict)\n",
    "    mask_datagen = ImageDataGenerator(**aug_dict)\n",
    "    \n",
    "    image_generator = image_datagen.flow_from_dataframe(dataframe,\n",
    "                                                              x_col = \"filename\",\n",
    "                                                              class_mode = None,\n",
    "                                                              color_mode = image_color_mode,\n",
    "                                                              target_size = target_size,\n",
    "                                                              batch_size = batch_size,\n",
    "                                                              save_to_dir = save_to_dir,\n",
    "                                                              save_prefix  = image_save_prefix,\n",
    "                                                              seed = seed)\n",
    "    mask_generator = mask_datagen.flow_from_dataframe(dataframe,\n",
    "                                                            x_col = \"mask\",\n",
    "                                                            class_mode = None,\n",
    "                                                            color_mode = mask_color_mode,\n",
    "                                                            target_size = target_size,\n",
    "                                                            batch_size = batch_size,\n",
    "                                                            save_to_dir = save_to_dir,\n",
    "                                                            save_prefix  = mask_save_prefix,\n",
    "                                                            seed = seed)\n",
    "    train_gen = zip(image_generator, mask_generator)\n",
    "    for (image, mask) in train_gen:\n",
    "        image, mask = normalize_data(image, mask)\n",
    "        yield (image, mask)\n",
    "\n",
    "        \n",
    "def normalize_data(image, mask):\n",
    "    image = image / 255\n",
    "    mask = mask / 255\n",
    "    mask[mask > 0.5] = 1 # tumor\n",
    "    mask[mask <= 0.5] = 0 # no tumor\n",
    "    return (image, mask)"
   ]
  },
  {
   "cell_type": "markdown",
   "metadata": {},
   "source": [
    "# metrics"
   ]
  },
  {
   "cell_type": "markdown",
   "metadata": {},
   "source": [
    "DSC = تابع زیان تاس\n",
    "\\begin{equation}\n",
    "D S C=\\frac{2|X \\cap Y|}{|X|+|Y|}\n",
    "\\end{equation}"
   ]
  },
  {
   "cell_type": "code",
   "execution_count": 30,
   "metadata": {
    "execution": {
     "iopub.execute_input": "2021-10-24T16:34:30.568844Z",
     "iopub.status.busy": "2021-10-24T16:34:30.568587Z",
     "iopub.status.idle": "2021-10-24T16:34:30.574291Z",
     "shell.execute_reply": "2021-10-24T16:34:30.573331Z",
     "shell.execute_reply.started": "2021-10-24T16:34:30.568815Z"
    }
   },
   "outputs": [],
   "source": [
    "def dice_coef(y_true, y_pred, smooth = 100):\n",
    "    y_true_flat = K.flatten(y_true)\n",
    "    y_pred_flat = K.flatten(y_pred)\n",
    "    intersection = K.sum(y_true_flat * y_pred_flat)\n",
    "    sum_ = K.sum(y_true_flat) + K.sum(y_pred_flat)\n",
    "    return (2 * intersection + smooth) / (sum_ + smooth)\n",
    "\n",
    "def dice_coef_loss(y_true, y_pred):\n",
    "    return -dice_coef(y_true, y_pred)"
   ]
  },
  {
   "cell_type": "markdown",
   "metadata": {},
   "source": [
    "IOU = تابع زیان اشتراک در اجتماع متقارن\n",
    "\n",
    "\\begin{equation}\n",
    "J(A, B)=\\frac{|A \\cap B|}{|A \\cup B|}=\\frac{|A \\cap B|}{|A|+|B|-|A \\cap B|}\n",
    "\\end{equation}"
   ]
  },
  {
   "cell_type": "code",
   "execution_count": 31,
   "metadata": {
    "execution": {
     "iopub.execute_input": "2021-10-24T16:34:32.710642Z",
     "iopub.status.busy": "2021-10-24T16:34:32.709991Z",
     "iopub.status.idle": "2021-10-24T16:34:32.715290Z",
     "shell.execute_reply": "2021-10-24T16:34:32.714550Z",
     "shell.execute_reply.started": "2021-10-24T16:34:32.710607Z"
    }
   },
   "outputs": [],
   "source": [
    "def iou(y_true, y_pred, smooth = 100):\n",
    "    y_true_flat = K.flatten(y_true)\n",
    "    y_pred_flat = K.flatten(y_pred)\n",
    "    intersection = K.sum(y_true_flat * y_pred_flat)\n",
    "    union = K.sum(y_true_flat) + K.sum(y_pred_flat) - intersection\n",
    "    return (intersection + smooth) / (union + smooth)"
   ]
  },
  {
   "cell_type": "markdown",
   "metadata": {},
   "source": [
    "# build model"
   ]
  },
  {
   "cell_type": "code",
   "execution_count": 32,
   "metadata": {
    "execution": {
     "iopub.execute_input": "2021-10-24T16:34:35.205894Z",
     "iopub.status.busy": "2021-10-24T16:34:35.203765Z",
     "iopub.status.idle": "2021-10-24T16:34:35.210827Z",
     "shell.execute_reply": "2021-10-24T16:34:35.209857Z",
     "shell.execute_reply.started": "2021-10-24T16:34:35.205860Z"
    }
   },
   "outputs": [],
   "source": [
    "def conv_block(input, num_filters):\n",
    "    x = Conv2D(num_filters, (3,3), padding='same')(input)\n",
    "    x = BatchNormalization()(x)\n",
    "    x = Activation('relu')(x)\n",
    "    \n",
    "    x = Conv2D(num_filters, (3,3), padding='same')(x)\n",
    "    x = BatchNormalization()(x)\n",
    "    x = Activation('relu')(x)\n",
    "    \n",
    "    return x"
   ]
  },
  {
   "cell_type": "code",
   "execution_count": 33,
   "metadata": {
    "execution": {
     "iopub.execute_input": "2021-10-24T16:34:38.041503Z",
     "iopub.status.busy": "2021-10-24T16:34:38.040815Z",
     "iopub.status.idle": "2021-10-24T16:34:38.045968Z",
     "shell.execute_reply": "2021-10-24T16:34:38.045272Z",
     "shell.execute_reply.started": "2021-10-24T16:34:38.041465Z"
    }
   },
   "outputs": [],
   "source": [
    "def encoder_block(input, num_filters):\n",
    "    x = conv_block(input, num_filters)\n",
    "    p = MaxPooling2D(pool_size=(2,2))(x)\n",
    "    return x,p"
   ]
  },
  {
   "cell_type": "code",
   "execution_count": 34,
   "metadata": {
    "execution": {
     "iopub.execute_input": "2021-10-24T16:34:41.642727Z",
     "iopub.status.busy": "2021-10-24T16:34:41.642173Z",
     "iopub.status.idle": "2021-10-24T16:34:41.647112Z",
     "shell.execute_reply": "2021-10-24T16:34:41.646427Z",
     "shell.execute_reply.started": "2021-10-24T16:34:41.642690Z"
    }
   },
   "outputs": [],
   "source": [
    "def decoder_block(input, skip_features, num_filters):\n",
    "    x = Conv2DTranspose(num_filters, (2,2), strides=2, padding='same')(input)\n",
    "    x = Concatenate()([x, skip_features])\n",
    "    x = conv_block(x, num_filters)\n",
    "    return x"
   ]
  },
  {
   "cell_type": "code",
   "execution_count": 35,
   "metadata": {
    "execution": {
     "iopub.execute_input": "2021-10-24T16:34:43.901758Z",
     "iopub.status.busy": "2021-10-24T16:34:43.901349Z",
     "iopub.status.idle": "2021-10-24T16:34:43.908703Z",
     "shell.execute_reply": "2021-10-24T16:34:43.907965Z",
     "shell.execute_reply.started": "2021-10-24T16:34:43.901722Z"
    }
   },
   "outputs": [],
   "source": [
    "def build_unet(input_shape):\n",
    "    inputs = Input(input_shape)\n",
    "    \n",
    "    s1, p1 = encoder_block(inputs, 64)\n",
    "    s2, p2 = encoder_block(p1, 128)\n",
    "    s3, p3 = encoder_block(p2, 256)\n",
    "    s4, p4 = encoder_block(p3, 512)\n",
    "    \n",
    "    b1 = conv_block(p4, 1024) # bridge\n",
    "    \n",
    "    d1 = decoder_block(b1, s4, 512)\n",
    "    d2 = decoder_block(d1, s3, 256)\n",
    "    d3 = decoder_block(d2, s2, 128)\n",
    "    d4 = decoder_block(d3, s1, 64)\n",
    "    \n",
    "    outputs = Conv2D(1, (1,1), padding='same', activation='sigmoid')(d4)\n",
    "    model = Model(inputs, outputs, name=\"U-Net\")\n",
    "    return model"
   ]
  },
  {
   "cell_type": "code",
   "execution_count": 36,
   "metadata": {
    "execution": {
     "iopub.execute_input": "2021-10-24T16:34:46.848540Z",
     "iopub.status.busy": "2021-10-24T16:34:46.847867Z",
     "iopub.status.idle": "2021-10-24T16:34:46.852386Z",
     "shell.execute_reply": "2021-10-24T16:34:46.851714Z",
     "shell.execute_reply.started": "2021-10-24T16:34:46.848503Z"
    }
   },
   "outputs": [],
   "source": [
    "IMG_WIDTH = 256\n",
    "IMG_HEIGHT = 256\n",
    "IMG_CHANNELS = 3\n",
    "\n",
    "input_shape = (IMG_HEIGHT, IMG_WIDTH, IMG_CHANNELS)"
   ]
  },
  {
   "cell_type": "code",
   "execution_count": 37,
   "metadata": {
    "execution": {
     "iopub.execute_input": "2021-10-24T16:34:49.596887Z",
     "iopub.status.busy": "2021-10-24T16:34:49.596192Z",
     "iopub.status.idle": "2021-10-24T16:34:49.601716Z",
     "shell.execute_reply": "2021-10-24T16:34:49.600633Z",
     "shell.execute_reply.started": "2021-10-24T16:34:49.596842Z"
    }
   },
   "outputs": [],
   "source": [
    "EPOCHS = 150\n",
    "BATCH_SIZE = 32\n",
    "learning_rate = 1e-4"
   ]
  },
  {
   "cell_type": "code",
   "execution_count": 38,
   "metadata": {
    "execution": {
     "iopub.execute_input": "2021-10-24T16:34:51.099574Z",
     "iopub.status.busy": "2021-10-24T16:34:51.099082Z",
     "iopub.status.idle": "2021-10-24T16:34:51.483424Z",
     "shell.execute_reply": "2021-10-24T16:34:51.482478Z",
     "shell.execute_reply.started": "2021-10-24T16:34:51.099536Z"
    }
   },
   "outputs": [],
   "source": [
    "train_generator_args = dict(rotation_range=0.2,\n",
    "                            width_shift_range=0.05,\n",
    "                            height_shift_range=0.05,\n",
    "                            shear_range=0.05,\n",
    "                            zoom_range=0.05,\n",
    "                            horizontal_flip=True,\n",
    "                            fill_mode='nearest')\n",
    "train_gen = train_generator(df_train,\n",
    "                            BATCH_SIZE,\n",
    "                            train_generator_args,\n",
    "                            target_size=(IMG_HEIGHT, IMG_WIDTH))\n",
    "val_gen = train_generator(df_val,\n",
    "                          BATCH_SIZE,\n",
    "                          dict(),\n",
    "                          target_size=(IMG_HEIGHT, IMG_WIDTH))\n",
    "model = build_unet(input_shape)\n",
    "decay_rate = learning_rate / EPOCHS\n",
    "opt = Adam(learning_rate, beta_1=0.9, beta_2=0.999, epsilon=None, decay=decay_rate, amsgrad=False)\n",
    "model.compile(optimizer=opt, loss=dice_coef_loss, metrics=[\"binary_accuracy\", iou, dice_coef])\n",
    "model.summary()"
   ]
  },
  {
   "cell_type": "markdown",
   "metadata": {},
   "source": [
    "# train"
   ]
  },
  {
   "cell_type": "code",
   "execution_count": 39,
   "metadata": {
    "execution": {
     "iopub.execute_input": "2021-10-24T16:34:55.756740Z",
     "iopub.status.busy": "2021-10-24T16:34:55.756174Z",
     "iopub.status.idle": "2021-10-24T20:10:21.751108Z",
     "shell.execute_reply": "2021-10-24T20:10:21.750151Z",
     "shell.execute_reply.started": "2021-10-24T16:34:55.756703Z"
    }
   },
   "outputs": [],
   "source": [
    "callbacks = [ModelCheckpoint('unet_brain_mri_seg.hdf5', verbose=1, save_best_only=True)]\n",
    "history = model.fit(train_gen,\n",
    "                    steps_per_epoch=len(df_train) / BATCH_SIZE, \n",
    "                    epochs=EPOCHS, \n",
    "                    callbacks=callbacks,\n",
    "                    validation_data = val_gen,\n",
    "                    validation_steps=len(df_val) / BATCH_SIZE)"
   ]
  },
  {
   "cell_type": "code",
   "execution_count": 40,
   "metadata": {
    "execution": {
     "iopub.execute_input": "2021-10-24T20:10:35.320850Z",
     "iopub.status.busy": "2021-10-24T20:10:35.320598Z",
     "iopub.status.idle": "2021-10-24T20:10:35.720417Z",
     "shell.execute_reply": "2021-10-24T20:10:35.719749Z",
     "shell.execute_reply.started": "2021-10-24T20:10:35.320821Z"
    }
   },
   "outputs": [],
   "source": [
    "a = history.history\n",
    "\n",
    "list_traindice = a['dice_coef']\n",
    "list_testdice = a['val_dice_coef']\n",
    "\n",
    "list_trainjaccard = a['iou']\n",
    "list_testjaccard = a['val_iou']\n",
    "\n",
    "list_trainloss = a['loss']\n",
    "list_testloss = a['val_loss']\n",
    "\n",
    "plt.figure(1)\n",
    "plt.plot(list_testloss, 'b-')\n",
    "plt.plot(list_trainloss,'r-')\n",
    "plt.xlabel('iteration')\n",
    "plt.ylabel('loss')\n",
    "plt.title('loss graph', fontsize = 15)\n",
    "plt.figure(2)\n",
    "plt.plot(list_traindice, 'r-')\n",
    "plt.plot(list_testdice, 'b-')\n",
    "plt.xlabel('iteration')\n",
    "plt.ylabel('accuracy')\n",
    "plt.title('accuracy graph', fontsize = 15)\n",
    "plt.show()"
   ]
  },
  {
   "cell_type": "code",
   "execution_count": 43,
   "metadata": {
    "execution": {
     "iopub.execute_input": "2021-10-24T20:12:02.154170Z",
     "iopub.status.busy": "2021-10-24T20:12:02.153881Z",
     "iopub.status.idle": "2021-10-24T20:12:20.626421Z",
     "shell.execute_reply": "2021-10-24T20:12:20.625611Z",
     "shell.execute_reply.started": "2021-10-24T20:12:02.154140Z"
    }
   },
   "outputs": [],
   "source": [
    "model = load_model('unet_brain_mri_seg.hdf5', custom_objects={'dice_coef_loss': dice_coef_loss, 'iou': iou, 'dice_coef': dice_coef})\n",
    "test_gen = train_generator(df_test,\n",
    "                           BATCH_SIZE,\n",
    "                           dict(),\n",
    "                           target_size=(IMG_WIDTH, IMG_HEIGHT))\n",
    "results = model.evaluate(test_gen, steps=len(df_test) / BATCH_SIZE)\n",
    "print(\"Test lost: \",results[0])\n",
    "print(\"Test IOU: \",results[1])\n",
    "print(\"Test Dice Coefficent: \",results[2])"
   ]
  },
  {
   "cell_type": "code",
   "execution_count": 47,
   "metadata": {
    "execution": {
     "iopub.execute_input": "2021-10-24T20:13:47.745067Z",
     "iopub.status.busy": "2021-10-24T20:13:47.744402Z",
     "iopub.status.idle": "2021-10-24T20:14:12.633369Z",
     "shell.execute_reply": "2021-10-24T20:14:12.632666Z",
     "shell.execute_reply.started": "2021-10-24T20:13:47.745028Z"
    }
   },
   "outputs": [],
   "source": [
    "for i in range(50):\n",
    "    index=np.random.randint(1,len(df_test.index))\n",
    "    img = cv2.imread(df_test['filename'].iloc[index])\n",
    "    img = cv2.resize(img ,(IMG_HEIGHT, IMG_WIDTH))\n",
    "    img = img / 255\n",
    "    img = img[np.newaxis, :, :, :]\n",
    "    pred=model.predict(img)\n",
    "\n",
    "    plt.figure(figsize=(12,12))\n",
    "    plt.subplot(1,3,1)\n",
    "    plt.imshow(np.squeeze(img))\n",
    "    plt.title('Original Image')\n",
    "    plt.subplot(1,3,2)\n",
    "    plt.imshow(np.squeeze(cv2.imread(df_test['mask'].iloc[index])))\n",
    "    plt.title('Original Mask')\n",
    "    plt.subplot(1,3,3)\n",
    "    plt.imshow(np.squeeze(pred) > .5)\n",
    "    plt.title('Prediction')\n",
    "    plt.show()"
   ]
  },
  {
   "cell_type": "code",
   "execution_count": null,
   "metadata": {},
   "outputs": [],
   "source": []
  },
  {
   "cell_type": "markdown",
   "metadata": {},
   "source": []
  }
 ],
 "metadata": {
  "kernelspec": {
   "display_name": "Python 3",
   "language": "python",
   "name": "python3"
  },
  "language_info": {
   "codemirror_mode": {
    "name": "ipython",
    "version": 3
   },
   "file_extension": ".py",
   "mimetype": "text/x-python",
   "name": "python",
   "nbconvert_exporter": "python",
   "pygments_lexer": "ipython3",
   "version": "3.8.3"
  }
 },
 "nbformat": 4,
 "nbformat_minor": 4
}
